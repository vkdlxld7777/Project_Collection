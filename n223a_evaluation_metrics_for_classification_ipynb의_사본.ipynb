{
  "cells": [
    {
      "cell_type": "markdown",
      "metadata": {
        "id": "view-in-github",
        "colab_type": "text"
      },
      "source": [
        "<a href=\"https://colab.research.google.com/github/vkdlxld7777/Project_Collection/blob/main/n223a_evaluation_metrics_for_classification_ipynb%EC%9D%98_%EC%82%AC%EB%B3%B8.ipynb\" target=\"_parent\"><img src=\"https://colab.research.google.com/assets/colab-badge.svg\" alt=\"Open In Colab\"/></a>"
      ]
    },
    {
      "cell_type": "markdown",
      "source": [
        "<img align=\"right\" src=\"https://ds-cs-images.s3.ap-northeast-2.amazonaws.com/Codestates_Fulllogo_Color.png\" width=100>\n",
        "\n",
        "## *AIB / SECTION 2 / SPRINT 2 / NOTE 3*\n",
        "\n",
        "# 📝 Assignment\n",
        "---"
      ],
      "metadata": {
        "id": "XTSAWdkiEA_U"
      }
    },
    {
      "cell_type": "code",
      "source": [
        "# !pip install -U pandas-profiling\n",
        "# !pip uninstall scikit-learn -y\n",
        "# !pip install -U scikit-learn\n",
        "# !pip install category_encoders\n",
        "# !apt-get -qq install -y graphviz && pip install -q pydot\n",
        "# !apt-get install graphviz libgraphviz-dev pkg-config\n",
        "# !pip install pygraphviz"
      ],
      "metadata": {
        "id": "kwy85XDIGrOr"
      },
      "execution_count": 1,
      "outputs": []
    },
    {
      "cell_type": "code",
      "execution_count": 2,
      "source": [
        "### 이곳에서 과제를 진행해 주세요 ###\n",
        "import pandas as pd\n",
        "from sklearn.model_selection import train_test_split\n",
        "from pandas_profiling import ProfileReport\n",
        "\n",
        "# target = 'vacc_h1n1_f'\n",
        "target = 'vacc_seas_f'\n",
        "train = pd.merge(pd.read_csv('https://ds-lecture-data.s3.ap-northeast-2.amazonaws.com/vacc_flu/train.csv'), \n",
        "                 pd.read_csv('https://ds-lecture-data.s3.ap-northeast-2.amazonaws.com/vacc_flu/train_labels.csv')[target], left_index=True, right_index=True)\n",
        "test = pd.read_csv('https://ds-lecture-data.s3.ap-northeast-2.amazonaws.com/vacc_flu/test.csv')\n",
        "sample_submission = pd.read_csv('https://ds-lecture-data.s3.ap-northeast-2.amazonaws.com/vacc_flu/submission.csv')\n",
        "\n",
        "\n",
        "print(len(test))\n",
        "\n",
        "train, val = train_test_split(train, test_size=len(test), \n",
        "                              stratify=train[target], random_state=2)\n",
        "\n",
        "def engineer(df):\n",
        "    # \"\"\"특성을 엔지니어링 하는 함수입니다.\"\"\"\n",
        "        \n",
        "    # # 새로운 특성을 생성합니다.\n",
        "    # behaviorals = [col for col in df.columns if 'h1n1' in col]\n",
        "    # print(behaviorals)\n",
        "    # df['behaviorals'] = df[behaviorals].sum(axis=1)\n",
        "    \n",
        "    \n",
        "    # # 계절독감(seas)에 대한 모델을 학습할 것이기 때문에 h1n1에 대한 특성을 제거합니다.\n",
        "    # dels = [col for col in df.columns if ('employment' in col or 'behavioral' in col)]\n",
        "    # df.drop(columns=dels, inplace=True)\n",
        "\n",
        "    # 새로운 특성을 생성합니다.\n",
        "    behaviorals = [col for col in df.columns if 'behavioral' in col] \n",
        "    df['behaviorals'] = df[behaviorals].sum(axis=1)\n",
        "    \n",
        "    \n",
        "    # 계절독감(seas)에 대한 모델을 학습할 것이기 때문에 h1n1에 대한 특성을 제거합니다.\n",
        "    dels = [col for col in df.columns if ('employment' in col or 'h1n1' in col)]\n",
        "    df.drop(columns=dels, inplace=True)\n",
        "\n",
        "    return df\n",
        "\n",
        "\n",
        "train = engineer(train)\n",
        "val = engineer(val)\n",
        "test = engineer(test)\n",
        "\n",
        "features = train.drop(columns=[target]).columns\n",
        "X_train = train[features]\n",
        "y_train = train[target]\n",
        "X_val = val[features]\n",
        "y_val = val[target]\n",
        "X_test = test[features]\n",
        "X_train.shape , y_train.shape , X_val.shape, y_val.shape"
      ],
      "outputs": [
        {
          "output_type": "stream",
          "name": "stdout",
          "text": [
            "28104\n"
          ]
        },
        {
          "output_type": "execute_result",
          "data": {
            "text/plain": [
              "((14050, 30), (14050,), (28104, 30), (28104,))"
            ]
          },
          "metadata": {},
          "execution_count": 2
        }
      ],
      "metadata": {
        "id": "qkBRjWZUNtC5",
        "colab": {
          "base_uri": "https://localhost:8080/"
        },
        "outputId": "47f75fc7-1ee2-44f9-f45f-c2fe6a46db89"
      }
    },
    {
      "cell_type": "code",
      "source": [
        "from sklearn.pipeline import make_pipeline\n",
        "from category_encoders import OrdinalEncoder\n",
        "from sklearn.impute import SimpleImputer\n",
        "from sklearn.ensemble import RandomForestClassifier\n",
        "from sklearn.metrics import accuracy_score\n",
        "\n",
        "# 파이프라인을 만들어 봅시다.\n",
        "pipe = make_pipeline(\n",
        "    OrdinalEncoder(), \n",
        "    SimpleImputer(), \n",
        "    RandomForestClassifier(n_estimators=100, random_state=2, n_jobs=-1)\n",
        ")\n",
        "\n",
        "\n",
        "pipe.fit(X_train, y_train)\n",
        "y_pred = pipe.predict(X_val)\n",
        "print('검증 정확도: ', accuracy_score(y_val, y_pred))"
      ],
      "metadata": {
        "colab": {
          "base_uri": "https://localhost:8080/"
        },
        "id": "JQ3TEwWdLuNX",
        "outputId": "b7ccb7ef-6c5a-4373-9711-683a0533b06e"
      },
      "execution_count": 3,
      "outputs": [
        {
          "output_type": "stream",
          "name": "stderr",
          "text": [
            "/usr/local/lib/python3.7/dist-packages/statsmodels/tools/_testing.py:19: FutureWarning: pandas.util.testing is deprecated. Use the functions in the public API at pandas.testing instead.\n",
            "  import pandas.util.testing as tm\n"
          ]
        },
        {
          "output_type": "stream",
          "name": "stdout",
          "text": [
            "검증 정확도:  0.7520281810418445\n"
          ]
        }
      ]
    },
    {
      "cell_type": "code",
      "source": [
        "from sklearn.metrics import classification_report\n",
        "print(classification_report(y_val, y_pred))"
      ],
      "metadata": {
        "colab": {
          "base_uri": "https://localhost:8080/"
        },
        "id": "JVB6oKwBFm3b",
        "outputId": "eb06d8ca-6998-4c10-ffd0-e24d16ae27b4"
      },
      "execution_count": 4,
      "outputs": [
        {
          "output_type": "stream",
          "name": "stdout",
          "text": [
            "              precision    recall  f1-score   support\n",
            "\n",
            "           0       0.76      0.80      0.78     15360\n",
            "           1       0.74      0.69      0.72     12744\n",
            "\n",
            "    accuracy                           0.75     28104\n",
            "   macro avg       0.75      0.75      0.75     28104\n",
            "weighted avg       0.75      0.75      0.75     28104\n",
            "\n"
          ]
        }
      ]
    },
    {
      "cell_type": "code",
      "source": [
        "%matplotlib inline\n",
        "from sklearn.metrics import plot_confusion_matrix\n",
        "import matplotlib.pyplot as plt\n",
        "\n",
        "fig, ax = plt.subplots()\n",
        "pcm = plot_confusion_matrix(pipe, X_val, y_val,\n",
        "                            cmap=plt.cm.Blues,\n",
        "                            ax=ax);\n",
        "plt.title(f'Confusion matrix, n = {len(y_val)}', fontsize=15)\n",
        "plt.show()"
      ],
      "metadata": {
        "colab": {
          "base_uri": "https://localhost:8080/",
          "height": 354
        },
        "id": "tv97CBwW-Js1",
        "outputId": "de356aca-08b9-48f8-8a73-737573b358b0"
      },
      "execution_count": 5,
      "outputs": [
        {
          "output_type": "stream",
          "name": "stderr",
          "text": [
            "/usr/local/lib/python3.7/dist-packages/sklearn/utils/deprecation.py:87: FutureWarning: Function plot_confusion_matrix is deprecated; Function `plot_confusion_matrix` is deprecated in 1.0 and will be removed in 1.2. Use one of the class methods: ConfusionMatrixDisplay.from_predictions or ConfusionMatrixDisplay.from_estimator.\n",
            "  warnings.warn(msg, category=FutureWarning)\n"
          ]
        },
        {
          "output_type": "display_data",
          "data": {
            "image/png": "[encoded data removed]",
            "text/plain": [
              "<Figure size 432x288 with 2 Axes>"
            ]
          },
          "metadata": {
            "needs_background": "light"
          }
        }
      ]
    },
    {
      "cell_type": "markdown",
      "source": [
        "# Evaluation Metrics for Classification\n",
        "\n",
        "### 1) Kaggle 챌린지를 이어서 진행합니다.\n",
        "- **(Urclass Quiz) 다음 조건에서 F beta score를 구하고 제출하세요.**\n",
        "    - TP = 4442, TN = 6165, FP = 1515, FN = 1930, 재현율에 정밀도의 2배 가중치를 부여합니다."
      ],
      "metadata": {
        "id": "nCc3XZEyG3XV"
      }
    },
    {
      "cell_type": "code",
      "execution_count": 6,
      "source": [
        "### 이곳에서 과제를 진행해 주세요 ### \n",
        "from sklearn.metrics import confusion_matrix, plot_confusion_matrix\n",
        "from sklearn.metrics import precision_score, recall_score, f1_score, fbeta_score\n",
        "pcm = confusion_matrix(y_val, y_pred)\n",
        "print('TN : ',pcm[0][0])\n",
        "print('FP : ',pcm[0][1])\n",
        "print('FN : ',pcm[1][0])\n",
        "print('TP : ',pcm[1][1])\n",
        "f_beta = fbeta_score(y_val, y_pred, beta = 2)\n",
        "f_beta"
      ],
      "outputs": [
        {
          "output_type": "stream",
          "name": "stdout",
          "text": [
            "TN :  12293\n",
            "FP :  3067\n",
            "FN :  3902\n",
            "TP :  8842\n"
          ]
        },
        {
          "output_type": "execute_result",
          "data": {
            "text/plain": [
              "0.7030293392700961"
            ]
          },
          "metadata": {},
          "execution_count": 6
        }
      ],
      "metadata": {
        "id": "NdcMQJ72EA_a",
        "colab": {
          "base_uri": "https://localhost:8080/"
        },
        "outputId": "14da17f2-abc7-4727-bd1a-f5bd6e59848b"
      }
    },
    {
      "cell_type": "markdown",
      "source": [
        "### 2) 모델을 학습한 후 Confusion matrix를 그리고 해석하세요\n",
        "- 임계값을 조정한 후 confusion matrix를 그려보세요\n",
        "- **(Urclass Quiz) 임계값을 증가시킬때 positive 범주의 재현율 변화 중 올바른 설명을 고르세요.**\n",
        "    1. 증가\n",
        "    2. 감소\n",
        "    3. 변화가 없다\n"
      ],
      "metadata": {
        "id": "1xuVweweEA_b"
      }
    },
    {
      "cell_type": "code",
      "execution_count": 7,
      "source": [
        "### 이곳에서 과제를 진행해 주세요 ### \n",
        "import seaborn as sns\n",
        "from ipywidgets import interact, fixed\n",
        "y_pred_proba = pipe.predict_proba(X_val)[:, 1]\n",
        "\n",
        "\n",
        "\n",
        "def explore_threshold(y_true, y_pred_proba, threshold=0.5):\n",
        "    y_pred = y_pred_proba >= threshold\n",
        "    vc = pd.Series(y_pred).value_counts()\n",
        "    ax = sns.histplot(y_pred_proba, kde=True)\n",
        "    ax.axvline(threshold, color='red')\n",
        "    ax.set_title(f'# of target, 1={vc[1]}, 0={vc[0]}')\n",
        "    plt.show()\n",
        "    print(classification_report(y_true, y_pred))\n",
        "\n",
        "    \n",
        "interact(explore_threshold, \n",
        "    y_true=fixed(y_val), \n",
        "    y_pred_proba=fixed(y_pred_proba), \n",
        "    threshold=(0, 1, 0.01));"
      ],
      "outputs": [
        {
          "output_type": "display_data",
          "data": {
            "application/vnd.jupyter.widget-view+json": {
              "model_id": "4e500c312f3442728e1fac8d9f780328",
              "version_minor": 0,
              "version_major": 2
            },
            "text/plain": [
              "interactive(children=(FloatSlider(value=0.5, description='threshold', max=1.0, step=0.01), Output()), _dom_cla…"
            ]
          },
          "metadata": {}
        }
      ],
      "metadata": {
        "id": "qGJe-O8eEA_b",
        "colab": {
          "base_uri": "https://localhost:8080/",
          "height": 478,
          "referenced_widgets": [
            "4e500c312f3442728e1fac8d9f780328",
            "487d0b8fe81e470a8e7869f92e9de6e5",
            "5f297506e9fd400089c5b69bb6ea782d",
            "a57a00fffb144e1db18c8707c7590781",
            "06ebfd21530e417da06d8ed4b7080abc",
            "2fbd14795feb438a8fcec4e3cea6e335",
            "dd163ad5e10a4a428ce00461a433003c"
          ]
        },
        "outputId": "74caa5d1-8e6e-4a2c-ad13-38d47ac4d864"
      }
    },
    {
      "cell_type": "markdown",
      "source": [
        "### 3) 랜덤포레스트의 n_estimator를 1, 10, 100, 1000으로 바꾸어 가며 positive 범주의 predict_proba를 비교해 보세요\n",
        "- 하이퍼파라미터는 다음과 같이 설정합니다.\n",
        "    - n_jobs=-1, random_state=10, max_depth=None, oob_score=True\n",
        "- **(Urclass Quiz) 확률값들의 분포의 변화를 아래 보기 중에서 고르세요**\n",
        "    1. 다양해진다\n",
        "    2. 변화가없다\n"
      ],
      "metadata": {
        "id": "LCXe5jTUEA_c"
      }
    },
    {
      "cell_type": "code",
      "execution_count": 8,
      "source": [
        "### 이곳에서 과제를 진행해 주세요 ###\n",
        "### 이곳에서 과제를 진행해 주세요 ### \n",
        "import seaborn as sns\n",
        "from ipywidgets import interact, fixed\n",
        "y_pred_proba = pipe.predict_proba(X_val)[:, 1]\n",
        "\n",
        "\n",
        "\n",
        "def explore_threshold(y_true, y_pred_proba, threshold=0.5):\n",
        "    y_pred = y_pred_proba >= threshold\n",
        "    vc = pd.Series(y_pred).value_counts()\n",
        "    ax = sns.histplot(y_pred_proba, kde=True)\n",
        "    ax.axvline(threshold, color='red')\n",
        "    ax.set_title(f'# of target, 1={vc[1]}, 0={vc[0]}')\n",
        "    plt.show()\n",
        "    print(classification_report(y_true, y_pred))\n",
        "\n",
        "    \n",
        "interact(explore_threshold, \n",
        "    y_true=fixed(y_val), \n",
        "    y_pred_proba=fixed(y_pred_proba), \n",
        "    threshold=(0, 1, 0.01));\n"
      ],
      "outputs": [
        {
          "output_type": "display_data",
          "data": {
            "application/vnd.jupyter.widget-view+json": {
              "model_id": "47d432fe84c24211a3eacc7b7298a54e",
              "version_minor": 0,
              "version_major": 2
            },
            "text/plain": [
              "interactive(children=(FloatSlider(value=0.5, description='threshold', max=1.0, step=0.01), Output()), _dom_cla…"
            ]
          },
          "metadata": {}
        }
      ],
      "metadata": {
        "id": "jRHDzTtQEA_c",
        "colab": {
          "base_uri": "https://localhost:8080/",
          "height": 478,
          "referenced_widgets": [
            "47d432fe84c24211a3eacc7b7298a54e",
            "309749fd3c1f4ba090f8d184bdf0f4c7",
            "fa628f0c346d4c5eb4abd48a437f6bbd",
            "2e9bd5f29b264c8b92adf887bd20ef71",
            "3fbd401957f1447db4e4cc36762680eb",
            "a787df1486fa4bb49b35a544d6d7deb1",
            "1653a90842a741fda5aabf608943dda2"
          ]
        },
        "outputId": "0ca23c09-aa03-478e-87c0-aa22b3e68db1"
      }
    },
    {
      "cell_type": "markdown",
      "source": [
        "### 4) 두개 이상의 다른 분류 모델을 학습시켜 ROC curve, AUC 점수를 비교하고 설명합니다.\n",
        "- 더 좋은 결과가 나오는 모델을 사용해서 캐글에 제출하세요\n",
        "- **(Urclass Quiz) 캐글 Leaderboard의 본인 Score를 제출하세요.**"
      ],
      "metadata": {
        "id": "qdYykyPYEA_d"
      }
    },
    {
      "cell_type": "code",
      "execution_count": 9,
      "source": [
        "### 이곳에서 과제를 진행해 주세요 ### "
      ],
      "outputs": [],
      "metadata": {
        "id": "_mp-hEabEA_d"
      }
    },
    {
      "cell_type": "markdown",
      "source": [
        "## 🔥 도전과제(Github - Discussion)"
      ],
      "metadata": {
        "id": "pWaFgPOVEA_e"
      }
    },
    {
      "cell_type": "markdown",
      "source": [
        "### 5) confusion matrix, classification report 등을 그려 보시고, 각 평가지표들에 대해 최대한 분석하고 precision과 recall 중 어느 것을 높이는 방향으로 모델링 해야할지 논의해 보세요. "
      ],
      "metadata": {
        "id": "Iqw8NDNCEA_f"
      }
    },
    {
      "cell_type": "code",
      "execution_count": 10,
      "source": [
        "### 이곳에서 과제를 진행해 주세요 ### "
      ],
      "outputs": [],
      "metadata": {
        "id": "Uj4BS428EA_f"
      }
    }
  ],
  "metadata": {
    "kernelspec": {
      "display_name": "Python 3",
      "language": "python",
      "name": "python3"
    },
    "language_info": {
      "codemirror_mode": {
        "name": "ipython",
        "version": 3
      },
      "file_extension": ".py",
      "mimetype": "text/x-python",
      "name": "python",
      "nbconvert_exporter": "python",
      "pygments_lexer": "ipython3",
      "version": "3.7.7"
    },
    "colab": {
      "name": "n223a-evaluation-metrics-for-classification.ipynb의 사본",
      "provenance": [],
      "collapsed_sections": [],
      "include_colab_link": true
    },
    "widgets": {
      "application/vnd.jupyter.widget-state+json": {
        "4e500c312f3442728e1fac8d9f780328": {
          "model_module": "@jupyter-widgets/controls",
          "model_name": "VBoxModel",
          "model_module_version": "1.5.0",
          "state": {
            "_view_name": "VBoxView",
            "_dom_classes": [
              "widget-interact"
            ],
            "_model_name": "VBoxModel",
            "_view_module": "@jupyter-widgets/controls",
            "_model_module_version": "1.5.0",
            "_view_count": null,
            "_view_module_version": "1.5.0",
            "box_style": "",
            "layout": "IPY_MODEL_487d0b8fe81e470a8e7869f92e9de6e5",
            "_model_module": "@jupyter-widgets/controls",
            "children": [
              "IPY_MODEL_5f297506e9fd400089c5b69bb6ea782d",
              "IPY_MODEL_a57a00fffb144e1db18c8707c7590781"
            ]
          }
        },
        "487d0b8fe81e470a8e7869f92e9de6e5": {
          "model_module": "@jupyter-widgets/base",
          "model_name": "LayoutModel",
          "model_module_version": "1.2.0",
          "state": {
            "_view_name": "LayoutView",
            "grid_template_rows": null,
            "right": null,
            "justify_content": null,
            "_view_module": "@jupyter-widgets/base",
            "overflow": null,
            "_model_module_version": "1.2.0",
            "_view_count": null,
            "flex_flow": null,
            "width": null,
            "min_width": null,
            "border": null,
            "align_items": null,
            "bottom": null,
            "_model_module": "@jupyter-widgets/base",
            "top": null,
            "grid_column": null,
            "overflow_y": null,
            "overflow_x": null,
            "grid_auto_flow": null,
            "grid_area": null,
            "grid_template_columns": null,
            "flex": null,
            "_model_name": "LayoutModel",
            "justify_items": null,
            "grid_row": null,
            "max_height": null,
            "align_content": null,
            "visibility": null,
            "align_self": null,
            "height": null,
            "min_height": null,
            "padding": null,
            "grid_auto_rows": null,
            "grid_gap": null,
            "max_width": null,
            "order": null,
            "_view_module_version": "1.2.0",
            "grid_template_areas": null,
            "object_position": null,
            "object_fit": null,
            "grid_auto_columns": null,
            "margin": null,
            "display": null,
            "left": null
          }
        },
        "5f297506e9fd400089c5b69bb6ea782d": {
          "model_module": "@jupyter-widgets/controls",
          "model_name": "FloatSliderModel",
          "model_module_version": "1.5.0",
          "state": {
            "_view_name": "FloatSliderView",
            "style": "IPY_MODEL_06ebfd21530e417da06d8ed4b7080abc",
            "_dom_classes": [],
            "description": "threshold",
            "step": 0.01,
            "_model_name": "FloatSliderModel",
            "orientation": "horizontal",
            "max": 1,
            "_view_module": "@jupyter-widgets/controls",
            "_model_module_version": "1.5.0",
            "value": 0.5,
            "_view_count": null,
            "disabled": false,
            "_view_module_version": "1.5.0",
            "min": 0,
            "continuous_update": true,
            "readout_format": ".2f",
            "description_tooltip": null,
            "readout": true,
            "_model_module": "@jupyter-widgets/controls",
            "layout": "IPY_MODEL_2fbd14795feb438a8fcec4e3cea6e335"
          }
        },
        "a57a00fffb144e1db18c8707c7590781": {
          "model_module": "@jupyter-widgets/output",
          "model_name": "OutputModel",
          "model_module_version": "1.0.0",
          "state": {
            "_view_name": "OutputView",
            "msg_id": "",
            "_dom_classes": [],
            "_model_name": "OutputModel",
            "outputs": [
              {
                "output_type": "display_data",
                "data": {
                  "image/png": "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\n",
                  "text/plain": "<Figure size 432x288 with 1 Axes>"
                },
                "metadata": {
                  "needs_background": "light"
                }
              },
              {
                "output_type": "stream",
                "name": "stdout",
                "text": [
                  "              precision    recall  f1-score   support\n",
                  "\n",
                  "           0       0.76      0.79      0.78     15360\n",
                  "           1       0.74      0.70      0.72     12744\n",
                  "\n",
                  "    accuracy                           0.75     28104\n",
                  "   macro avg       0.75      0.75      0.75     28104\n",
                  "weighted avg       0.75      0.75      0.75     28104\n",
                  "\n"
                ]
              }
            ],
            "_view_module": "@jupyter-widgets/output",
            "_model_module_version": "1.0.0",
            "_view_count": null,
            "_view_module_version": "1.0.0",
            "layout": "IPY_MODEL_dd163ad5e10a4a428ce00461a433003c",
            "_model_module": "@jupyter-widgets/output"
          }
        },
        "06ebfd21530e417da06d8ed4b7080abc": {
          "model_module": "@jupyter-widgets/controls",
          "model_name": "SliderStyleModel",
          "model_module_version": "1.5.0",
          "state": {
            "_view_name": "StyleView",
            "handle_color": null,
            "_model_name": "SliderStyleModel",
            "description_width": "",
            "_view_module": "@jupyter-widgets/base",
            "_model_module_version": "1.5.0",
            "_view_count": null,
            "_view_module_version": "1.2.0",
            "_model_module": "@jupyter-widgets/controls"
          }
        },
        "2fbd14795feb438a8fcec4e3cea6e335": {
          "model_module": "@jupyter-widgets/base",
          "model_name": "LayoutModel",
          "model_module_version": "1.2.0",
          "state": {
            "_view_name": "LayoutView",
            "grid_template_rows": null,
            "right": null,
            "justify_content": null,
            "_view_module": "@jupyter-widgets/base",
            "overflow": null,
            "_model_module_version": "1.2.0",
            "_view_count": null,
            "flex_flow": null,
            "width": null,
            "min_width": null,
            "border": null,
            "align_items": null,
            "bottom": null,
            "_model_module": "@jupyter-widgets/base",
            "top": null,
            "grid_column": null,
            "overflow_y": null,
            "overflow_x": null,
            "grid_auto_flow": null,
            "grid_area": null,
            "grid_template_columns": null,
            "flex": null,
            "_model_name": "LayoutModel",
            "justify_items": null,
            "grid_row": null,
            "max_height": null,
            "align_content": null,
            "visibility": null,
            "align_self": null,
            "height": null,
            "min_height": null,
            "padding": null,
            "grid_auto_rows": null,
            "grid_gap": null,
            "max_width": null,
            "order": null,
            "_view_module_version": "1.2.0",
            "grid_template_areas": null,
            "object_position": null,
            "object_fit": null,
            "grid_auto_columns": null,
            "margin": null,
            "display": null,
            "left": null
          }
        },
        "dd163ad5e10a4a428ce00461a433003c": {
          "model_module": "@jupyter-widgets/base",
          "model_name": "LayoutModel",
          "model_module_version": "1.2.0",
          "state": {
            "_view_name": "LayoutView",
            "grid_template_rows": null,
            "right": null,
            "justify_content": null,
            "_view_module": "@jupyter-widgets/base",
            "overflow": null,
            "_model_module_version": "1.2.0",
            "_view_count": null,
            "flex_flow": null,
            "width": null,
            "min_width": null,
            "border": null,
            "align_items": null,
            "bottom": null,
            "_model_module": "@jupyter-widgets/base",
            "top": null,
            "grid_column": null,
            "overflow_y": null,
            "overflow_x": null,
            "grid_auto_flow": null,
            "grid_area": null,
            "grid_template_columns": null,
            "flex": null,
            "_model_name": "LayoutModel",
            "justify_items": null,
            "grid_row": null,
            "max_height": null,
            "align_content": null,
            "visibility": null,
            "align_self": null,
            "height": null,
            "min_height": null,
            "padding": null,
            "grid_auto_rows": null,
            "grid_gap": null,
            "max_width": null,
            "order": null,
            "_view_module_version": "1.2.0",
            "grid_template_areas": null,
            "object_position": null,
            "object_fit": null,
            "grid_auto_columns": null,
            "margin": null,
            "display": null,
            "left": null
          }
        },
        "47d432fe84c24211a3eacc7b7298a54e": {
          "model_module": "@jupyter-widgets/controls",
          "model_name": "VBoxModel",
          "model_module_version": "1.5.0",
          "state": {
            "_view_name": "VBoxView",
            "_dom_classes": [
              "widget-interact"
            ],
            "_model_name": "VBoxModel",
            "_view_module": "@jupyter-widgets/controls",
            "_model_module_version": "1.5.0",
            "_view_count": null,
            "_view_module_version": "1.5.0",
            "box_style": "",
            "layout": "IPY_MODEL_309749fd3c1f4ba090f8d184bdf0f4c7",
            "_model_module": "@jupyter-widgets/controls",
            "children": [
              "IPY_MODEL_fa628f0c346d4c5eb4abd48a437f6bbd",
              "IPY_MODEL_2e9bd5f29b264c8b92adf887bd20ef71"
            ]
          }
        },
        "309749fd3c1f4ba090f8d184bdf0f4c7": {
          "model_module": "@jupyter-widgets/base",
          "model_name": "LayoutModel",
          "model_module_version": "1.2.0",
          "state": {
            "_view_name": "LayoutView",
            "grid_template_rows": null,
            "right": null,
            "justify_content": null,
            "_view_module": "@jupyter-widgets/base",
            "overflow": null,
            "_model_module_version": "1.2.0",
            "_view_count": null,
            "flex_flow": null,
            "width": null,
            "min_width": null,
            "border": null,
            "align_items": null,
            "bottom": null,
            "_model_module": "@jupyter-widgets/base",
            "top": null,
            "grid_column": null,
            "overflow_y": null,
            "overflow_x": null,
            "grid_auto_flow": null,
            "grid_area": null,
            "grid_template_columns": null,
            "flex": null,
            "_model_name": "LayoutModel",
            "justify_items": null,
            "grid_row": null,
            "max_height": null,
            "align_content": null,
            "visibility": null,
            "align_self": null,
            "height": null,
            "min_height": null,
            "padding": null,
            "grid_auto_rows": null,
            "grid_gap": null,
            "max_width": null,
            "order": null,
            "_view_module_version": "1.2.0",
            "grid_template_areas": null,
            "object_position": null,
            "object_fit": null,
            "grid_auto_columns": null,
            "margin": null,
            "display": null,
            "left": null
          }
        },
        "fa628f0c346d4c5eb4abd48a437f6bbd": {
          "model_module": "@jupyter-widgets/controls",
          "model_name": "FloatSliderModel",
          "model_module_version": "1.5.0",
          "state": {
            "_view_name": "FloatSliderView",
            "style": "IPY_MODEL_3fbd401957f1447db4e4cc36762680eb",
            "_dom_classes": [],
            "description": "threshold",
            "step": 0.01,
            "_model_name": "FloatSliderModel",
            "orientation": "horizontal",
            "max": 1,
            "_view_module": "@jupyter-widgets/controls",
            "_model_module_version": "1.5.0",
            "value": 0.5,
            "_view_count": null,
            "disabled": false,
            "_view_module_version": "1.5.0",
            "min": 0,
            "continuous_update": true,
            "readout_format": ".2f",
            "description_tooltip": null,
            "readout": true,
            "_model_module": "@jupyter-widgets/controls",
            "layout": "IPY_MODEL_a787df1486fa4bb49b35a544d6d7deb1"
          }
        },
        "2e9bd5f29b264c8b92adf887bd20ef71": {
          "model_module": "@jupyter-widgets/output",
          "model_name": "OutputModel",
          "model_module_version": "1.0.0",
          "state": {
            "_view_name": "OutputView",
            "msg_id": "",
            "_dom_classes": [],
            "_model_name": "OutputModel",
            "outputs": [
              {
                "output_type": "display_data",
                "data": {
                  "image/png": "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\n",
                  "text/plain": "<Figure size 432x288 with 1 Axes>"
                },
                "metadata": {
                  "needs_background": "light"
                }
              },
              {
                "output_type": "stream",
                "name": "stdout",
                "text": [
                  "              precision    recall  f1-score   support\n",
                  "\n",
                  "           0       0.76      0.79      0.78     15360\n",
                  "           1       0.74      0.70      0.72     12744\n",
                  "\n",
                  "    accuracy                           0.75     28104\n",
                  "   macro avg       0.75      0.75      0.75     28104\n",
                  "weighted avg       0.75      0.75      0.75     28104\n",
                  "\n"
                ]
              }
            ],
            "_view_module": "@jupyter-widgets/output",
            "_model_module_version": "1.0.0",
            "_view_count": null,
            "_view_module_version": "1.0.0",
            "layout": "IPY_MODEL_1653a90842a741fda5aabf608943dda2",
            "_model_module": "@jupyter-widgets/output"
          }
        },
        "3fbd401957f1447db4e4cc36762680eb": {
          "model_module": "@jupyter-widgets/controls",
          "model_name": "SliderStyleModel",
          "model_module_version": "1.5.0",
          "state": {
            "_view_name": "StyleView",
            "handle_color": null,
            "_model_name": "SliderStyleModel",
            "description_width": "",
            "_view_module": "@jupyter-widgets/base",
            "_model_module_version": "1.5.0",
            "_view_count": null,
            "_view_module_version": "1.2.0",
            "_model_module": "@jupyter-widgets/controls"
          }
        },
        "a787df1486fa4bb49b35a544d6d7deb1": {
          "model_module": "@jupyter-widgets/base",
          "model_name": "LayoutModel",
          "model_module_version": "1.2.0",
          "state": {
            "_view_name": "LayoutView",
            "grid_template_rows": null,
            "right": null,
            "justify_content": null,
            "_view_module": "@jupyter-widgets/base",
            "overflow": null,
            "_model_module_version": "1.2.0",
            "_view_count": null,
            "flex_flow": null,
            "width": null,
            "min_width": null,
            "border": null,
            "align_items": null,
            "bottom": null,
            "_model_module": "@jupyter-widgets/base",
            "top": null,
            "grid_column": null,
            "overflow_y": null,
            "overflow_x": null,
            "grid_auto_flow": null,
            "grid_area": null,
            "grid_template_columns": null,
            "flex": null,
            "_model_name": "LayoutModel",
            "justify_items": null,
            "grid_row": null,
            "max_height": null,
            "align_content": null,
            "visibility": null,
            "align_self": null,
            "height": null,
            "min_height": null,
            "padding": null,
            "grid_auto_rows": null,
            "grid_gap": null,
            "max_width": null,
            "order": null,
            "_view_module_version": "1.2.0",
            "grid_template_areas": null,
            "object_position": null,
            "object_fit": null,
            "grid_auto_columns": null,
            "margin": null,
            "display": null,
            "left": null
          }
        },
        "1653a90842a741fda5aabf608943dda2": {
          "model_module": "@jupyter-widgets/base",
          "model_name": "LayoutModel",
          "model_module_version": "1.2.0",
          "state": {
            "_view_name": "LayoutView",
            "grid_template_rows": null,
            "right": null,
            "justify_content": null,
            "_view_module": "@jupyter-widgets/base",
            "overflow": null,
            "_model_module_version": "1.2.0",
            "_view_count": null,
            "flex_flow": null,
            "width": null,
            "min_width": null,
            "border": null,
            "align_items": null,
            "bottom": null,
            "_model_module": "@jupyter-widgets/base",
            "top": null,
            "grid_column": null,
            "overflow_y": null,
            "overflow_x": null,
            "grid_auto_flow": null,
            "grid_area": null,
            "grid_template_columns": null,
            "flex": null,
            "_model_name": "LayoutModel",
            "justify_items": null,
            "grid_row": null,
            "max_height": null,
            "align_content": null,
            "visibility": null,
            "align_self": null,
            "height": null,
            "min_height": null,
            "padding": null,
            "grid_auto_rows": null,
            "grid_gap": null,
            "max_width": null,
            "order": null,
            "_view_module_version": "1.2.0",
            "grid_template_areas": null,
            "object_position": null,
            "object_fit": null,
            "grid_auto_columns": null,
            "margin": null,
            "display": null,
            "left": null
          }
        }
      }
    }
  },
  "nbformat": 4,
  "nbformat_minor": 0
}